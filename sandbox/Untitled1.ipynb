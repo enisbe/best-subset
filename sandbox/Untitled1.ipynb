{
 "cells": [
  {
   "cell_type": "code",
   "execution_count": null,
   "id": "c2b5fb97-03a4-44d8-ace0-275422eb989a",
   "metadata": {},
   "outputs": [],
   "source": [
    "from best_subset as bs0\n",
    "\n",
    "help(bs0)"
   ]
  }
 ],
 "metadata": {
  "kernelspec": {
   "display_name": "lightGBM",
   "language": "python",
   "name": "lightgbm"
  },
  "language_info": {
   "codemirror_mode": {
    "name": "ipython",
    "version": 3
   },
   "file_extension": ".py",
   "mimetype": "text/x-python",
   "name": "python",
   "nbconvert_exporter": "python",
   "pygments_lexer": "ipython3",
   "version": "3.10.15"
  },
  "widgets": {
   "application/vnd.jupyter.widget-state+json": {
    "state": {},
    "version_major": 2,
    "version_minor": 0
   }
  }
 },
 "nbformat": 4,
 "nbformat_minor": 5
}
